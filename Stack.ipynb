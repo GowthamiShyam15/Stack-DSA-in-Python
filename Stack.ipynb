{
 "cells": [
  {
   "cell_type": "markdown",
   "id": "270025e2",
   "metadata": {},
   "source": [
    "# Impelementing Stack using List"
   ]
  },
  {
   "cell_type": "code",
   "execution_count": 1,
   "id": "217a68ee",
   "metadata": {},
   "outputs": [
    {
     "name": "stdout",
     "output_type": "stream",
     "text": [
      "original stack: []\n"
     ]
    }
   ],
   "source": [
    "s = []  #empty list\n",
    "print(\"original stack:\",s)"
   ]
  },
  {
   "cell_type": "code",
   "execution_count": 2,
   "id": "145b2bf0",
   "metadata": {},
   "outputs": [
    {
     "name": "stdout",
     "output_type": "stream",
     "text": [
      "After pushing values into stack: [45, 12, 56, 23, 90]\n"
     ]
    }
   ],
   "source": [
    "#pusing values into stack-> 45,12,56,23,90\n",
    "#append() -> adding values at the end\n",
    "s.append(45)\n",
    "s.append(12)\n",
    "s.append(56)\n",
    "s.append(23)\n",
    "s.append(90)\n",
    "print(\"After pushing values into stack:\",s)"
   ]
  },
  {
   "cell_type": "code",
   "execution_count": 3,
   "id": "9ece03ca",
   "metadata": {},
   "outputs": [
    {
     "name": "stdout",
     "output_type": "stream",
     "text": [
      "deleted value: 90\n",
      "after deleting,stack be: [45, 12, 56, 23]\n",
      "deleted value: 23\n",
      "after deleting,stack be: [45, 12, 56]\n",
      "deleted value: 56\n",
      "after deleting,stack be: [45, 12]\n",
      "deleted value: 12\n",
      "after deleting,stack be: [45]\n",
      "deleted value: 45\n",
      "after deleting,stack be: []\n"
     ]
    }
   ],
   "source": [
    "#poping values from stack -> pop()\n",
    "print(\"deleted value:\",s.pop())  #90\n",
    "print(\"after deleting,stack be:\",s) #[45, 12, 56, 23]\n",
    "print(\"deleted value:\",s.pop()) #23\n",
    "print(\"after deleting,stack be:\",s) #[45, 12, 56]\n",
    "print(\"deleted value:\",s.pop()) #56\n",
    "print(\"after deleting,stack be:\",s) #[45, 12]\n",
    "print(\"deleted value:\",s.pop()) #12\n",
    "print(\"after deleting,stack be:\",s) #[45]\n",
    "print(\"deleted value:\",s.pop()) #45\n",
    "print(\"after deleting,stack be:\",s) #[]"
   ]
  },
  {
   "cell_type": "code",
   "execution_count": 4,
   "id": "f87460dd",
   "metadata": {},
   "outputs": [
    {
     "ename": "IndexError",
     "evalue": "list index out of range",
     "output_type": "error",
     "traceback": [
      "\u001b[1;31m---------------------------------------------------------------------------\u001b[0m",
      "\u001b[1;31mIndexError\u001b[0m                                Traceback (most recent call last)",
      "Input \u001b[1;32mIn [4]\u001b[0m, in \u001b[0;36m<cell line: 2>\u001b[1;34m()\u001b[0m\n\u001b[0;32m      1\u001b[0m \u001b[38;5;66;03m#find the peek value from the stack\u001b[39;00m\n\u001b[1;32m----> 2\u001b[0m \u001b[38;5;28mprint\u001b[39m(\u001b[38;5;124m\"\u001b[39m\u001b[38;5;124mpeek value/topmost value :\u001b[39m\u001b[38;5;124m\"\u001b[39m,\u001b[43ms\u001b[49m\u001b[43m[\u001b[49m\u001b[38;5;241;43m-\u001b[39;49m\u001b[38;5;241;43m1\u001b[39;49m\u001b[43m]\u001b[49m)\n",
      "\u001b[1;31mIndexError\u001b[0m: list index out of range"
     ]
    }
   ],
   "source": [
    "#find the peek value from the stack\n",
    "print(\"peek value/topmost value :\",s[-1])"
   ]
  },
  {
   "cell_type": "code",
   "execution_count": 5,
   "id": "2361b16f",
   "metadata": {},
   "outputs": [
    {
     "name": "stdout",
     "output_type": "stream",
     "text": [
      "45\n",
      "12\n",
      "56\n",
      "23\n",
      "90\n"
     ]
    }
   ],
   "source": [
    "#traversing -> visiting values and printing\n",
    "s = [45, 12, 56, 23, 90]\n",
    "\n",
    "for i in s:\n",
    "    print(i)"
   ]
  },
  {
   "cell_type": "code",
   "execution_count": 6,
   "id": "1cc4b91f",
   "metadata": {},
   "outputs": [
    {
     "name": "stdout",
     "output_type": "stream",
     "text": [
      "enter searching value:23\n",
      "23 is found at  3\n"
     ]
    }
   ],
   "source": [
    "#searching values from the stack\n",
    "\n",
    "s = [45, 12, 56, 23, 90, 23, 89]\n",
    "n = int(input(\"enter searching value:\"))\n",
    "for i in range(len(s)):\n",
    "    if s[i] == n:\n",
    "        print(f\"{n} is found at \",i)\n",
    "        break\n",
    "else:\n",
    "    print(f\"{n} is not found\") "
   ]
  },
  {
   "cell_type": "code",
   "execution_count": 7,
   "id": "663ad784",
   "metadata": {},
   "outputs": [
    {
     "name": "stdout",
     "output_type": "stream",
     "text": [
      "[45, 12, 56, 23, 50, 23, 89]\n"
     ]
    }
   ],
   "source": [
    "#updation\n",
    "s = [45, 12, 56, 23, 90, 23, 89]\n",
    "def update(old, new): #(90,50)\n",
    "    for i in range(len(s)): #0,1,2,3,4,5,6\n",
    "        if s[i] == old:\n",
    "            s[i] = new\n",
    "    print(s)\n",
    "           \n",
    "        \n",
    "update(90,50)"
   ]
  },
  {
   "cell_type": "markdown",
   "id": "4d0a497a",
   "metadata": {},
   "source": [
    "# Implementing Stack Using deque()"
   ]
  },
  {
   "cell_type": "code",
   "execution_count": 8,
   "id": "0623bc56",
   "metadata": {},
   "outputs": [],
   "source": [
    "from collections import deque"
   ]
  },
  {
   "cell_type": "code",
   "execution_count": 9,
   "id": "49f42195",
   "metadata": {},
   "outputs": [
    {
     "name": "stdout",
     "output_type": "stream",
     "text": [
      "Original Stack: deque([])\n"
     ]
    }
   ],
   "source": [
    "s = deque()\n",
    "print(\"Original Stack:\",s)"
   ]
  },
  {
   "cell_type": "code",
   "execution_count": 10,
   "id": "03f943f6",
   "metadata": {},
   "outputs": [
    {
     "name": "stdout",
     "output_type": "stream",
     "text": [
      "enter value to be inserted:23\n",
      "enter value to be inserted:11\n",
      "enter value to be inserted:6\n",
      "enter value to be inserted:19\n",
      "enter value to be inserted:4\n",
      "after pushing values into stack: deque([23, 11, 6, 19, 4])\n"
     ]
    }
   ],
   "source": [
    "#pushing values into stack from right side -> append()\n",
    "for i in range(5):\n",
    "    ele = int(input(\"enter value to be inserted:\"))\n",
    "    s.append(ele)\n",
    "    \n",
    "print(\"after pushing values into stack:\",s)"
   ]
  },
  {
   "cell_type": "code",
   "execution_count": 11,
   "id": "aae23c3d",
   "metadata": {},
   "outputs": [
    {
     "name": "stdout",
     "output_type": "stream",
     "text": [
      "Deleted value: 4\n",
      "After deleting,stack be: deque([23, 11, 6, 19])\n",
      "Deleted value: 19\n",
      "After deleting,stack be: deque([23, 11, 6])\n",
      "Deleted value: 6\n",
      "After deleting,stack be: deque([23, 11])\n",
      "Deleted value: 11\n",
      "After deleting,stack be: deque([23])\n",
      "Deleted value: 23\n",
      "After deleting,stack be: deque([])\n"
     ]
    }
   ],
   "source": [
    "#poping values from stack from right side -> pop()\n",
    "for i in range(len(s)):\n",
    "    removed_value = s.pop()\n",
    "    print(\"Deleted value:\",removed_value)\n",
    "    print(\"After deleting,stack be:\",s)"
   ]
  },
  {
   "cell_type": "code",
   "execution_count": 12,
   "id": "2a7b2c73",
   "metadata": {},
   "outputs": [
    {
     "name": "stdout",
     "output_type": "stream",
     "text": [
      "Original Stack: deque([])\n"
     ]
    }
   ],
   "source": [
    "s = deque()\n",
    "print(\"Original Stack:\",s)"
   ]
  },
  {
   "cell_type": "code",
   "execution_count": 13,
   "id": "a75e7975",
   "metadata": {},
   "outputs": [
    {
     "name": "stdout",
     "output_type": "stream",
     "text": [
      "enter value to be inserted:34\n",
      "enter value to be inserted:11\n",
      "enter value to be inserted:5\n",
      "enter value to be inserted:21\n",
      "enter value to be inserted:9\n",
      "after pushing values into stack: deque([9, 21, 5, 11, 34])\n"
     ]
    }
   ],
   "source": [
    "#pushing values into stack from left side -> appendleft()\n",
    "for i in range(5):\n",
    "    ele = int(input(\"enter value to be inserted:\"))\n",
    "    s.appendleft(ele)\n",
    "    \n",
    "print(\"after pushing values into stack:\",s)"
   ]
  },
  {
   "cell_type": "code",
   "execution_count": 14,
   "id": "19bd4f3e",
   "metadata": {},
   "outputs": [
    {
     "name": "stdout",
     "output_type": "stream",
     "text": [
      "Deleted value: 9\n",
      "After deleting,stack be: deque([21, 5, 11, 34])\n",
      "Deleted value: 21\n",
      "After deleting,stack be: deque([5, 11, 34])\n",
      "Deleted value: 5\n",
      "After deleting,stack be: deque([11, 34])\n",
      "Deleted value: 11\n",
      "After deleting,stack be: deque([34])\n",
      "Deleted value: 34\n",
      "After deleting,stack be: deque([])\n"
     ]
    }
   ],
   "source": [
    "#poping values from stack from left side -> popleft()\n",
    "for i in range(len(s)):\n",
    "    removed_value = s.popleft()\n",
    "    print(\"Deleted value:\",removed_value)\n",
    "    print(\"After deleting,stack be:\",s)"
   ]
  },
  {
   "cell_type": "markdown",
   "id": "bc68130e",
   "metadata": {},
   "source": [
    "# Implementing Stack Using LifoQueue()"
   ]
  },
  {
   "cell_type": "code",
   "execution_count": 15,
   "id": "55e0bbfe",
   "metadata": {},
   "outputs": [],
   "source": [
    "from queue import LifoQueue"
   ]
  },
  {
   "cell_type": "code",
   "execution_count": 16,
   "id": "7d3c235a",
   "metadata": {},
   "outputs": [
    {
     "name": "stdout",
     "output_type": "stream",
     "text": [
      "0\n",
      "True\n"
     ]
    }
   ],
   "source": [
    "s = LifoQueue(maxsize=4)\n",
    "print(s.qsize())  #qsize() -> returns number of values \n",
    "print(s.empty())"
   ]
  },
  {
   "cell_type": "code",
   "execution_count": 17,
   "id": "389ba8db",
   "metadata": {},
   "outputs": [
    {
     "name": "stdout",
     "output_type": "stream",
     "text": [
      "4\n"
     ]
    }
   ],
   "source": [
    "#adding values -> put(value)\n",
    "s.put(45)\n",
    "s.put(12)\n",
    "s.put(67)\n",
    "s.put(32)\n",
    "print(s.qsize())"
   ]
  },
  {
   "cell_type": "code",
   "execution_count": 18,
   "id": "fbdb75e5",
   "metadata": {},
   "outputs": [
    {
     "name": "stdout",
     "output_type": "stream",
     "text": [
      "True\n"
     ]
    }
   ],
   "source": [
    "print(s.full())"
   ]
  },
  {
   "cell_type": "code",
   "execution_count": 19,
   "id": "7d7ffe35",
   "metadata": {},
   "outputs": [
    {
     "name": "stdout",
     "output_type": "stream",
     "text": [
      "initially,the size of stack: 4\n",
      "32\n",
      "after deleting,the satck size be: 3\n",
      "67\n",
      "after deleting,the satck size be: 2\n",
      "12\n",
      "after deleting,the satck size be: 1\n",
      "45\n",
      "after deleting,the satck size be: 0\n",
      "True\n"
     ]
    }
   ],
   "source": [
    "#deletion -> get()\n",
    "print(\"initially,the size of stack:\",s.qsize())\n",
    "print(s.get())\n",
    "print(\"after deleting,the satck size be:\",s.qsize())\n",
    "print(s.get())\n",
    "print(\"after deleting,the satck size be:\",s.qsize())\n",
    "print(s.get())\n",
    "print(\"after deleting,the satck size be:\",s.qsize())\n",
    "print(s.get())\n",
    "print(\"after deleting,the satck size be:\",s.qsize())\n",
    "print(s.empty())\n"
   ]
  }
 ],
 "metadata": {
  "kernelspec": {
   "display_name": "Python 3 (ipykernel)",
   "language": "python",
   "name": "python3"
  },
  "language_info": {
   "codemirror_mode": {
    "name": "ipython",
    "version": 3
   },
   "file_extension": ".py",
   "mimetype": "text/x-python",
   "name": "python",
   "nbconvert_exporter": "python",
   "pygments_lexer": "ipython3",
   "version": "3.10.4"
  }
 },
 "nbformat": 4,
 "nbformat_minor": 5
}
